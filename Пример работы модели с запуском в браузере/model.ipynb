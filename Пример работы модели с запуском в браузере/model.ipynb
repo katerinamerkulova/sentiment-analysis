{
 "cells": [
  {
   "cell_type": "code",
   "execution_count": null,
   "metadata": {},
   "outputs": [],
   "source": [
    "import pickle\n",
    "import pandas as pd\n",
    "from sklearn.pipeline import Pipeline\n",
    "from sklearn.feature_extraction.text import CountVectorizer\n",
    "from sklearn.linear_model import LogisticRegression\n",
    "from sklearn.model_selection import cross_val_score\n",
    "from nltk.corpus import stopwords\n",
    "stop_words = set(stopwords.words('russian'))\n",
    "\n",
    "# train dataset\n",
    "df = pd.read_csv('reviews.csv', sep=';').dropna()\n",
    "df['label'] = ['pos' if x > 3 else 'neg' for x in df['rating']]\n",
    "\n",
    "# Векторизация по частотности и обучение логистической регрессии\n",
    "ppl = Pipeline([\n",
    "    ('vectorizer', CountVectorizer(stop_words=stop_words, ngram_range=(1, 3))),\n",
    "    ('classifier', LogisticRegression(solver='liblinear')),\n",
    "])\n",
    "ppl.fit(df['review'], df['label'])\n",
    "\n",
    "with open('model.pickle', 'wb') as fid:\n",
    "    pickle.dump(ppl, fid)"
   ]
  }
 ],
 "metadata": {
  "kernelspec": {
   "display_name": "Python 3",
   "language": "python",
   "name": "python3"
  },
  "language_info": {
   "codemirror_mode": {
    "name": "ipython",
    "version": 3
   },
   "file_extension": ".py",
   "mimetype": "text/x-python",
   "name": "python",
   "nbconvert_exporter": "python",
   "pygments_lexer": "ipython3",
   "version": "3.6.8"
  }
 },
 "nbformat": 4,
 "nbformat_minor": 2
}
