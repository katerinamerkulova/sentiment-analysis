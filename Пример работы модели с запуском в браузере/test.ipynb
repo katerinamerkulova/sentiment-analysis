{
 "cells": [
  {
   "cell_type": "code",
   "execution_count": 1,
   "metadata": {},
   "outputs": [
    {
     "name": "stdout",
     "output_type": "stream",
     "text": [
      "большой экран качественный телефон\n",
      "['pos']\n"
     ]
    }
   ],
   "source": [
    "import sentiment_analysis as sa\n",
    "import re\n",
    "    \n",
    "test = re.sub(r'[^\\w]', ' ', input()).lower()\n",
    "pred = sa.predict([test])\n",
    "print(pred)"
   ]
  }
 ],
 "metadata": {
  "kernelspec": {
   "display_name": "Python 3",
   "language": "python",
   "name": "python3"
  },
  "language_info": {
   "codemirror_mode": {
    "name": "ipython",
    "version": 3
   },
   "file_extension": ".py",
   "mimetype": "text/x-python",
   "name": "python",
   "nbconvert_exporter": "python",
   "pygments_lexer": "ipython3",
   "version": "3.6.8"
  }
 },
 "nbformat": 4,
 "nbformat_minor": 2
}
