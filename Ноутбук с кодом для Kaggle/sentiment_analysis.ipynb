{
 "cells": [
  {
   "cell_type": "markdown",
   "metadata": {},
   "source": [
    "Необходимо решить задачу заказчика на анализ тональности отзывов на товары при наличии тестовой выборки в размере 100 отзывов. Требуется качество больше 85%. Ссылка на соревнование Kaggle: https://inclass.kaggle.com/c/product-reviews-sentiment-analysis\n",
    "\n",
    "В этом ноутбуке реализован парсер сбора обучающей выборки с разметкой, прдобработка данных, и обучение модели."
   ]
  },
  {
   "cell_type": "markdown",
   "metadata": {},
   "source": [
    "## Как выглядит тестовая выборка"
   ]
  },
  {
   "cell_type": "code",
   "execution_count": 2,
   "metadata": {},
   "outputs": [
    {
     "data": {
      "text/html": [
       "<div>\n",
       "<style scoped>\n",
       "    .dataframe tbody tr th:only-of-type {\n",
       "        vertical-align: middle;\n",
       "    }\n",
       "\n",
       "    .dataframe tbody tr th {\n",
       "        vertical-align: top;\n",
       "    }\n",
       "\n",
       "    .dataframe thead th {\n",
       "        text-align: right;\n",
       "    }\n",
       "</style>\n",
       "<table border=\"1\" class=\"dataframe\">\n",
       "  <thead>\n",
       "    <tr style=\"text-align: right;\">\n",
       "      <th></th>\n",
       "      <th>y</th>\n",
       "    </tr>\n",
       "    <tr>\n",
       "      <th>Id</th>\n",
       "      <th></th>\n",
       "    </tr>\n",
       "  </thead>\n",
       "  <tbody>\n",
       "    <tr>\n",
       "      <th>0</th>\n",
       "      <td>neg</td>\n",
       "    </tr>\n",
       "    <tr>\n",
       "      <th>1</th>\n",
       "      <td>neg</td>\n",
       "    </tr>\n",
       "    <tr>\n",
       "      <th>2</th>\n",
       "      <td>neg</td>\n",
       "    </tr>\n",
       "    <tr>\n",
       "      <th>3</th>\n",
       "      <td>neg</td>\n",
       "    </tr>\n",
       "    <tr>\n",
       "      <th>4</th>\n",
       "      <td>neg</td>\n",
       "    </tr>\n",
       "  </tbody>\n",
       "</table>\n",
       "</div>"
      ],
      "text/plain": [
       "      y\n",
       "Id     \n",
       "0   neg\n",
       "1   neg\n",
       "2   neg\n",
       "3   neg\n",
       "4   neg"
      ]
     },
     "execution_count": 2,
     "metadata": {},
     "output_type": "execute_result"
    }
   ],
   "source": [
    "import pandas as pd\n",
    "\n",
    "sample = pd.read_csv('sample_submission.csv', index_col='Id', sep=',')\n",
    "sample[:5]"
   ]
  },
  {
   "cell_type": "code",
   "execution_count": 3,
   "metadata": {},
   "outputs": [
    {
     "data": {
      "text/plain": [
       "[' ужасно слабый аккумулятор  это основной минус этого аппарата  разряжается буквально за пару часов при включенном wifi и на макс подсветке  например если играть или смотреть видео  следовательно использовать можно только если есть постоянная возможность подзарядиться  качества звука через динамик далеко не на высоте наблюдаются незначительные тормоза в некоторых приложениях и вообще в меню  очень мало встроенной памяти  а приложения устанавливаются именно туда  с этим связанны неудобства   нужно постоянно переносить их на карту памяти  несколько неудобно что нету отдельной кнопки для фото  подумываю купить батарею большей емкость мб что нибудь измениться    ',\n",
       " ' ценанадежность неубиваемостьдолго держит батарею 4 дня стабильно как телефон  3 4 как плеер если  постоянно долбиться в уши и звонить по паре часо на дню  игры и  конечно   смс   в месяц около 200 шт набирается   максимальное время работы 5 дней в щадящем режиме 2 simqwerty рулит  после нее набор смс на обычных сенсорниках и кнопочных  просто издивательствогромкий  чистый звук  хорошо варьируется как в   так и в   значение hot кнопок  верхняя панель до основной раскладки цифры буквы  задается под себямного цветных панелек с пластиковым защитным  экраном переставляются легко те родной экран телефона никогда не поцарапается кнопки не стираютсякак не странно достойные фото  нет не спорю не 25 мегапикселей  но  отснять рассписание или конспекты  зафотать пейзаж за окном автобуса получается вполне пристойносохранение файлов отснятых фото  переброшенных песен происходит  на карту памяти  и это оч удобно  карточки кушает до 32 гб  удобный ашевский бонус смс чат с аббанентом т е   вы можете видеть всю ветку беседы с конкретным человеком   а не искать в куче входящих смс с нужной информацией  работает чисто без галюнов падал шврялся купался используется как тел и плеер в метро поездов не слышно уши юзаю сенхайзер 300 и 500 mp3 звонок чистый без сипов экран  не горилла глас   но на солнце сохраняет читаемость  в отличие от большинства  сенсорников   битых пикселей и засветов нет самсунговские кверти менее удобные  пользовалась    буква  б  и   ь   просто убивают   нокиевская кверти интуитивно понятна и более дружелюбна к пользователю подстройка телефона под себя те вынос на экран нужных приложений  перемена значений у кнопок существенно облегчает жизнь    ']"
      ]
     },
     "execution_count": 3,
     "metadata": {},
     "output_type": "execute_result"
    }
   ],
   "source": [
    "import codecs\n",
    "import re\n",
    "\n",
    "test = codecs.open('test.csv', 'r', 'utf_8_sig').read()\n",
    "test = re.sub(r'[^\\w]', ' ', test).lower()    # чистим от знаков\n",
    "test = test.split('review')[1::2]   # разделяем на список\n",
    "test[:2]"
   ]
  },
  {
   "cell_type": "markdown",
   "metadata": {},
   "source": [
    "## Собираем обучающую выборку"
   ]
  },
  {
   "cell_type": "code",
   "execution_count": null,
   "metadata": {},
   "outputs": [],
   "source": [
    "import requests\n",
    "import bs4\n",
    "\n",
    "headers = {'accept': '*/*',\n",
    "          'user-agent': 'Mozilla/5.0 (Windows NT 10.0; Win64; x64) AppleWebKit/537.36 (KHTML, like Gecko) Chrome/79.0.3945.88 Safari/537.36'}\n",
    "links = open('links.txt').read().split('\\n')\n",
    "\n",
    "# получаем ссылки на бренды (группы) телефонов\n",
    "session = requests.Session()\n",
    "req = session.get('https://slonrekomenduet.com/category/smartphones.html', headers=headers)\n",
    "parser = bs4.BeautifulSoup(req.text, 'lxml')\n",
    "raw_links = parser.findAll('li')[:80]\n",
    "links = []\n",
    "for link in raw_links:\n",
    "    link = re.search('/category/.+\\.html', str(link.a))\n",
    "    links.append(link.group(0))\n",
    "\n",
    "# получаем ссылки на модели телефонов\n",
    "model_links = []\n",
    "for link in links:\n",
    "    session = requests.Session()\n",
    "    req = session.get('https://slonrekomenduet.com{}'.format(link), headers=headers)\n",
    "    parser = bs4.BeautifulSoup(req.text, 'lxml')\n",
    "    raw_links = parser.findAll('div', {'class': 'model'})[:-10]\n",
    "    for model_link in raw_links:\n",
    "        model_links.append(re.search('/model/.+\\.html', str(model_link.a)).group(0))\n",
    "\n",
    "# парсим страницы с отзывами\n",
    "reviews = []\n",
    "ratings = []\n",
    "for i, link in enumerate(model_links):\n",
    "    print(i, round(i/1567, 4), link)    # наблюдаем ход парсинга\n",
    "    session = requests.Session()\n",
    "    req = session.get('https://slonrekomenduet.com{}'.format(link), headers=headers)\n",
    "    parser = bs4.BeautifulSoup(req.text, 'lxml')\n",
    "    try:\n",
    "        n_pages = int(re.findall('page/\\d', str(parser))[-1][-1])\n",
    "    except IndexError:\n",
    "        n_pages = 1\n",
    "    for page in range(1, n_pages+1):\n",
    "        review = parser.findAll('div', {'class': 'comment_text'})\n",
    "        for rev in review:\n",
    "            text = rev.text.lower()    # приводим к нижнему регистру\n",
    "            text = text.replace('\\xa0', ' ')\n",
    "            text = re.sub(r'[^\\w]', ' ', text)    # избавляемся от знаков препинания\n",
    "            reviews.append(text)\n",
    "        rating = parser.findAll('div', {'class': 'br-widget'})[1:len(review)+1]\n",
    "        for rate in rating:\n",
    "            ratings.append(len(rate.findAll('a', {'class': 'br-active'})))\n",
    "\n",
    "df = pd.DataFrame({'review': reviews, 'rating': ratings})\n",
    "df.to_csv('reviews.csv')"
   ]
  },
  {
   "cell_type": "code",
   "execution_count": null,
   "metadata": {},
   "outputs": [],
   "source": [
    "# Открываем обучающую выборку из сохраненного файла\n",
    "df = pd.read_csv('reviews.csv').dropna()"
   ]
  },
  {
   "cell_type": "markdown",
   "metadata": {},
   "source": [
    "## Пример отзыва и (не)сбалансированность классов"
   ]
  },
  {
   "cell_type": "code",
   "execution_count": 5,
   "metadata": {},
   "outputs": [
    {
     "name": "stdout",
     "output_type": "stream",
     "text": [
      "достоинства   удобно лежит в детской руке  неплохой дизайн  отличная задумка    недостатки но реализация отвратительная  глюк на глюке   за два месяца использования столкнулись со следующими проблемами  спервого дня использования   1  не видит симку  приходится разбирать и колдовать  поворачивая ее  по полмиллиметра в разные стороны  да  слот под симку чуть больше симки   2  провод приходится перетыкать в гнездо по несколько раз  чтобы пошла зарядка   3  родительский контроль работает через раз  в частности контроль приложений чудачит как хочет  то появляется значок блокировки приложения  когда оно доступно  то наоборот  4  настроить отслеживание местоположения так и не удалось  несмотря на два дня танцев с бубнами  ни мой телефон  nexus 5x   ни мужа  iphone 4s   так и не смогли подключиться к устройству  при помощи сканирования кода через официальное приложение  пишет  ошибка подключения   и хоть тресни  5  к wi fi ни разу нормально не подключился  все время вылетает  комментарий ну и детское меню могло бы быть организовано логичнее  а так просто свалка какая то  никаких виджетов  неудобно  максимум  что можно сделать  организовать все по папкам  камеры для ребенка достаточно  в несложные игры играть можно   ютуб работает  предпочла бы заплатить вдвое больше  но получить нормальный продукт  а это деньги на ветер  терпеть глюки нет сил больше  будем брать другой смартфон  не рекомендую никому \n"
     ]
    },
    {
     "data": {
      "text/plain": [
       "5    40740\n",
       "4    16654\n",
       "3     9707\n",
       "1     8279\n",
       "2     6785\n",
       "Name: rating, dtype: int64"
      ]
     },
     "execution_count": 5,
     "metadata": {},
     "output_type": "execute_result"
    }
   ],
   "source": [
    "print(df['review'][0])\n",
    "df['rating'].value_counts()    # смотрим на сбалансированность классов"
   ]
  },
  {
   "cell_type": "markdown",
   "metadata": {},
   "source": [
    "## Разметка на бинарные классы\n",
    "Отзывы с оценками 4 и 5 - положительные, остальные отрицательные."
   ]
  },
  {
   "cell_type": "code",
   "execution_count": 11,
   "metadata": {},
   "outputs": [
    {
     "data": {
      "text/plain": [
       "pos    57394\n",
       "neg    24771\n",
       "Name: label, dtype: int64"
      ]
     },
     "execution_count": 11,
     "metadata": {},
     "output_type": "execute_result"
    }
   ],
   "source": [
    "df['label'] = ['pos' if x > 3 else 'neg' for x in df['rating']]\n",
    "df['label'].value_counts()"
   ]
  },
  {
   "cell_type": "markdown",
   "metadata": {},
   "source": [
    "## Векторизация по частотности и обучение логистической регрессии"
   ]
  },
  {
   "cell_type": "markdown",
   "metadata": {},
   "source": [
    "Настраиваемые параметры: количество слов от 1 до 3, стоп-слова исключаются.\n"
   ]
  },
  {
   "cell_type": "code",
   "execution_count": 12,
   "metadata": {},
   "outputs": [
    {
     "name": "stdout",
     "output_type": "stream",
     "text": [
      "Качество на обучении: 0.8509342276361581\n"
     ]
    }
   ],
   "source": [
    "from sklearn.pipeline import Pipeline\n",
    "from sklearn.feature_extraction.text import CountVectorizer\n",
    "from sklearn.linear_model import LogisticRegression\n",
    "from sklearn.model_selection import cross_val_score\n",
    "from nltk.corpus import stopwords\n",
    "stop_words = set(stopwords.words('russian'))\n",
    "\n",
    "ppl = Pipeline([\n",
    "    ('vectorizer', CountVectorizer(stop_words=stop_words, ngram_range=(1, 3))),\n",
    "    ('classifier', LogisticRegression(solver='liblinear')),\n",
    "])\n",
    "\n",
    "print('Качество на обучении:', cross_val_score(ppl, df['review'], df['label'], scoring='accuracy', cv=5).mean())"
   ]
  },
  {
   "cell_type": "markdown",
   "metadata": {},
   "source": [
    "## Делаем предсказание на тестовой выборке"
   ]
  },
  {
   "cell_type": "code",
   "execution_count": 13,
   "metadata": {},
   "outputs": [],
   "source": [
    "ppl.fit(df['review'], df['label'])\n",
    "pred = ppl.predict(test)\n",
    "pred = pd.DataFrame({'Id': list(range(100)), 'y': pred})\n",
    "pred.to_csv('pred.csv', sep=',', index=False)"
   ]
  },
  {
   "cell_type": "code",
   "execution_count": 14,
   "metadata": {},
   "outputs": [
    {
     "data": {
      "text/plain": [
       "array(['neg', 'neg', 'neg', 'neg', 'pos', 'pos', 'pos', 'pos', 'neg',\n",
       "       'pos', 'neg', 'pos', 'pos', 'pos', 'pos', 'pos', 'pos', 'pos',\n",
       "       'pos', 'pos', 'pos', 'neg', 'pos', 'pos', 'pos', 'neg', 'pos',\n",
       "       'pos', 'neg', 'pos', 'neg', 'pos', 'neg', 'pos', 'neg', 'pos',\n",
       "       'pos', 'pos', 'pos', 'neg', 'pos', 'pos', 'pos', 'neg', 'neg',\n",
       "       'pos', 'pos', 'pos', 'neg', 'neg', 'neg', 'neg', 'neg', 'neg',\n",
       "       'neg', 'pos', 'pos', 'pos', 'pos', 'pos', 'neg', 'pos', 'neg',\n",
       "       'neg', 'neg', 'neg', 'neg', 'neg', 'pos', 'pos', 'pos', 'neg',\n",
       "       'neg', 'neg', 'neg', 'pos', 'neg', 'neg', 'neg', 'neg', 'neg',\n",
       "       'pos', 'neg', 'neg', 'pos', 'neg', 'pos', 'pos', 'neg', 'neg',\n",
       "       'pos', 'pos', 'neg', 'pos', 'neg', 'neg', 'pos', 'neg', 'pos',\n",
       "       'pos'], dtype=object)"
      ]
     },
     "execution_count": 14,
     "metadata": {},
     "output_type": "execute_result"
    }
   ],
   "source": [
    "ppl.predict(test)"
   ]
  }
 ],
 "metadata": {
  "kernelspec": {
   "display_name": "Python 3",
   "language": "python",
   "name": "python3"
  },
  "language_info": {
   "codemirror_mode": {
    "name": "ipython",
    "version": 3
   },
   "file_extension": ".py",
   "mimetype": "text/x-python",
   "name": "python",
   "nbconvert_exporter": "python",
   "pygments_lexer": "ipython3",
   "version": "3.6.8"
  }
 },
 "nbformat": 4,
 "nbformat_minor": 2
}
