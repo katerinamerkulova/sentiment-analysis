{
 "cells": [
  {
   "cell_type": "markdown",
   "metadata": {},
   "source": [
    "## Как выглядит тестовая выборка"
   ]
  },
  {
   "cell_type": "code",
   "execution_count": 1,
   "metadata": {},
   "outputs": [
    {
     "data": {
      "text/html": [
       "<div>\n",
       "<style scoped>\n",
       "    .dataframe tbody tr th:only-of-type {\n",
       "        vertical-align: middle;\n",
       "    }\n",
       "\n",
       "    .dataframe tbody tr th {\n",
       "        vertical-align: top;\n",
       "    }\n",
       "\n",
       "    .dataframe thead th {\n",
       "        text-align: right;\n",
       "    }\n",
       "</style>\n",
       "<table border=\"1\" class=\"dataframe\">\n",
       "  <thead>\n",
       "    <tr style=\"text-align: right;\">\n",
       "      <th></th>\n",
       "      <th>y</th>\n",
       "    </tr>\n",
       "    <tr>\n",
       "      <th>Id</th>\n",
       "      <th></th>\n",
       "    </tr>\n",
       "  </thead>\n",
       "  <tbody>\n",
       "    <tr>\n",
       "      <th>0</th>\n",
       "      <td>neg</td>\n",
       "    </tr>\n",
       "    <tr>\n",
       "      <th>1</th>\n",
       "      <td>neg</td>\n",
       "    </tr>\n",
       "    <tr>\n",
       "      <th>2</th>\n",
       "      <td>neg</td>\n",
       "    </tr>\n",
       "    <tr>\n",
       "      <th>3</th>\n",
       "      <td>neg</td>\n",
       "    </tr>\n",
       "    <tr>\n",
       "      <th>4</th>\n",
       "      <td>neg</td>\n",
       "    </tr>\n",
       "  </tbody>\n",
       "</table>\n",
       "</div>"
      ],
      "text/plain": [
       "      y\n",
       "Id     \n",
       "0   neg\n",
       "1   neg\n",
       "2   neg\n",
       "3   neg\n",
       "4   neg"
      ]
     },
     "execution_count": 1,
     "metadata": {},
     "output_type": "execute_result"
    }
   ],
   "source": [
    "import pandas as pd\n",
    "\n",
    "sample = pd.read_csv('sample_submission.csv', index_col='Id', sep=',')\n",
    "sample[:5]"
   ]
  },
  {
   "cell_type": "code",
   "execution_count": 2,
   "metadata": {},
   "outputs": [
    {
     "data": {
      "text/plain": [
       "[' ужасно слабый аккумулятор  это основной минус этот аппарат  разряжаться буквально за пара час при включать wifi и на макс подсветка  например если играть или смотреть видео  следовательно использовать можно только если быть постоянный возможность подзарядиться  качество звук через динамик далеко не на высота наблюдаться незначительный тормоз в некоторый приложение и вообще в меню  очень мало встроенный память  а приложение устанавливаться именно туда  с этот связанный неудобство   нужно постоянно переносить они на карта память  несколько неудобно что нету отдельный кнопка для фото  подумывать купить батарея больший емкость мб что нибудь изменяться    \\n',\n",
       " ' ценанадежность неубиваемостьдолго держать батарея 4 день стабильно как телефон  3 4 как плеер если  постоянно долбиться в ухо и звонить по пара часо на день  игра и  конечно   смс   в месяц около 200 шт набираться   максимальный время работа 5 день в щадить режим 2 simqwerty рулить  после она набор смс на обычный сенсорник и кнопочный  просто издивательствогромкий  чистый звук  хорошо варьироваться как в   так и в   значение hot кнопка  верхний панель до основной раскладка цифра буква  задаваться под себямный цветной панелька с пластиковый защитный  экран переставляться легко тот родной экран телефон никогда не поцарапаться кнопка не стираютсякак не странный достойный фото  нет не спорить не 25 мегапиксел  но  отснимать рассписание или конспект  зафотать пейзаж за окно автобус получаться вполне пристойносохранение файл отснимать фото  перебрасывать песня происходить  на карта память  и это оч удобный  карточка кушать до 32 гб  удобный ашевский бонус смс чат с аббанент т е   вы мочь видеть весь ветка беседа с конкретный человек   а не искать в куча входить смс с нужный информация  работать чисто без галюнов падать шврясться купаться использоваться как тело и плеер в метро поезд не слышно ухо юзай сенхайзер 300 и 500 mp3 звонок чистый без сип экран  не горилла глас   но на солнце сохранять читаемость  в отличие от большинство  сенсорник   битый пиксел и засвет нет самсунговский кверть менее удобный  пользоваться    буква  б  и   ь   просто убивать   нокиевский кверть интуитивно понятный и более дружелюбный к пользователь подстройка телефон под себя тот вынос на экран нужный приложение  перемена значение у кнопка существенно облегчать жизнь    \\n']"
      ]
     },
     "execution_count": 2,
     "metadata": {},
     "output_type": "execute_result"
    }
   ],
   "source": [
    "import codecs\n",
    "import re\n",
    "from pymystem3 import Mystem\n",
    "\n",
    "test = codecs.open('test.csv', 'r', 'utf_8_sig').read()\n",
    "test = re.sub(r'[^\\w]', ' ', test).lower()    # чистим от знаков\n",
    "test = test.split('review')[1::2]    # разделяем на список\n",
    "\n",
    "lemma_test = []\n",
    "for descr in test:\n",
    "    lemmas = Mystem().lemmatize(descr)\n",
    "    lemma_test.append(''.join(lemmas))\n",
    "test = lemma_test\n",
    "test[:2]"
   ]
  },
  {
   "cell_type": "markdown",
   "metadata": {},
   "source": [
    "## Парсим яндекс.маркет и собираем обучающую выборку\n",
    "Оценка ниже 4 считается негативной"
   ]
  },
  {
   "cell_type": "code",
   "execution_count": 4,
   "metadata": {},
   "outputs": [],
   "source": [
    "import requests\n",
    "import bs4\n",
    "import time\n",
    "import random\n",
    "import re\n",
    "import pandas as pd\n",
    "\n",
    "reviews = []\n",
    "rating = []\n",
    "headers = {'accept': '*/*',\n",
    "          'user-agent': 'Mozilla/5.0 (Windows NT 10.0; Win64; x64) AppleWebKit/537.36 (KHTML, like Gecko) Chrome/79.0.3945.88 Safari/537.36'}\n",
    "for n in range(1, 51):    # 50*24 = 1200 отзывов\n",
    "    time.sleep(random.randint(1, 50))\n",
    "    session = requests.Session()\n",
    "    req = session.get('https://market.yandex.ru/catalog--mobilnye-telefony-otzyvy-pokupatelei/54726/list?show-reviews=1&page={}&local-offers-first=0&deliveryincluded=0&onstock=0'.format(n),\n",
    "                     headers=headers)\n",
    "    if req.status_code == 200:\n",
    "        print(n)\n",
    "    else:\n",
    "        break\n",
    "    \n",
    "    parser = bs4.BeautifulSoup(req.text, 'lxml')\n",
    "    x = parser.findAll('dl')    # тексты отзывов\n",
    "    for i, text in enumerate(x[:-2]):\n",
    "        review = []\n",
    "        text = re.sub(r'[^\\w]', ' ', text.text).lower()    # избавляемся от знаков и приводим к нижнему регистру\n",
    "        if re.match(r'достоинства', text):\n",
    "            review.append(text)\n",
    "            review.append(re.sub(r'[^\\w]', ' ', x[i+1].text).lower())\n",
    "            review.append(re.sub(r'[^\\w]', ' ', x[i+2].text).lower())\n",
    "            review = ' '.join(review)\n",
    "            reviews.append(review)\n",
    "        elif not re.match(r'недостатки', text) and not re.match(r'комментарий', text):\n",
    "            reviews.append(text)\n",
    "    y = parser.findAll('div', attrs={'class': 'rating__value'})    # оценки\n",
    "    for label in y[1::2]:\n",
    "        if int(label.text) > 3:\n",
    "            rating.append('pos')\n",
    "        else:\n",
    "            rating.append('neg')\n",
    "\n",
    "df = pd.DataFrame({'review': reviews, 'rating': rating})\n",
    "df.to_csv('reviews.csv', sep=';')"
   ]
  },
  {
   "cell_type": "code",
   "execution_count": 3,
   "metadata": {},
   "outputs": [],
   "source": [
    "import pandas as pd\n",
    "\n",
    "df = pd.read_csv('reviews.csv', sep=';', index_col=False)"
   ]
  },
  {
   "cell_type": "markdown",
   "metadata": {},
   "source": [
    "## Пример отзыва и таблица с разметкой"
   ]
  },
  {
   "cell_type": "code",
   "execution_count": 4,
   "metadata": {},
   "outputs": [
    {
     "name": "stdout",
     "output_type": "stream",
     "text": [
      "  отличный аппарат  продолжение старый добрый линейка  redmi note   экран классный  не amoled  конечно  но ltps   это чуток хорошо чем ips  все работать шустро  слот наконец то тройной  nfc    это вообще просить давно и безответный  современный прошивка  android 9 с переход на 10  камера на отличный уровень  особенно с гугл камера  рано то гугл камера можно быть только  с бубен  поставлять \n",
      "   жаль что убирать диод уведомление  и вес мочь быть мало  но это плата за батарея  быть бы вес мало  жаловаться бы на маленький батарея  насчет запись звонок можно поставлять любой кастый на miui и быть вы счастие  причем они бывать и с обновление \n",
      "   в целое аппарат не сказать что прямо  огонь   но то что  огонек    это 100500    по цена качество рядом ничто не лежать  если что то и лежать  то  кто читать и знать  писать  быть очень интересно  спасибо  что прочитывать отзыв до конец \n",
      "\n"
     ]
    },
    {
     "data": {
      "text/html": [
       "<div>\n",
       "<style scoped>\n",
       "    .dataframe tbody tr th:only-of-type {\n",
       "        vertical-align: middle;\n",
       "    }\n",
       "\n",
       "    .dataframe tbody tr th {\n",
       "        vertical-align: top;\n",
       "    }\n",
       "\n",
       "    .dataframe thead th {\n",
       "        text-align: right;\n",
       "    }\n",
       "</style>\n",
       "<table border=\"1\" class=\"dataframe\">\n",
       "  <thead>\n",
       "    <tr style=\"text-align: right;\">\n",
       "      <th></th>\n",
       "      <th>review</th>\n",
       "      <th>rating</th>\n",
       "    </tr>\n",
       "  </thead>\n",
       "  <tbody>\n",
       "    <tr>\n",
       "      <th>0</th>\n",
       "      <td>отличный аппарат  продолжение старый добрый ...</td>\n",
       "      <td>pos</td>\n",
       "    </tr>\n",
       "    <tr>\n",
       "      <th>1</th>\n",
       "      <td>большой экран  аккумулятор  \\n   не увидеть ...</td>\n",
       "      <td>pos</td>\n",
       "    </tr>\n",
       "    <tr>\n",
       "      <th>2</th>\n",
       "      <td>купить он спонтанно  зайти на маркет увидеть...</td>\n",
       "      <td>pos</td>\n",
       "    </tr>\n",
       "    <tr>\n",
       "      <th>3</th>\n",
       "      <td>1  скорость и плавность работа  у телефон 6 ...</td>\n",
       "      <td>pos</td>\n",
       "    </tr>\n",
       "    <tr>\n",
       "      <th>4</th>\n",
       "      <td>1  брать ради камера  не мочь сказать что он...</td>\n",
       "      <td>pos</td>\n",
       "    </tr>\n",
       "  </tbody>\n",
       "</table>\n",
       "</div>"
      ],
      "text/plain": [
       "                                              review rating\n",
       "0    отличный аппарат  продолжение старый добрый ...    pos\n",
       "1    большой экран  аккумулятор  \\n   не увидеть ...    pos\n",
       "2    купить он спонтанно  зайти на маркет увидеть...    pos\n",
       "3    1  скорость и плавность работа  у телефон 6 ...    pos\n",
       "4    1  брать ради камера  не мочь сказать что он...    pos"
      ]
     },
     "execution_count": 4,
     "metadata": {},
     "output_type": "execute_result"
    }
   ],
   "source": [
    "print(df['review'][0])\n",
    "df[:5]"
   ]
  },
  {
   "cell_type": "code",
   "execution_count": 5,
   "metadata": {},
   "outputs": [],
   "source": [
    "df2 = pd.DataFrame({'review': [x for i, x in enumerate(df['review']) if df['rating'][i] == 'neg'] * 10,\n",
    "                   'rating': ['neg'] * 880})\n",
    "df = df.append(df2)"
   ]
  },
  {
   "cell_type": "code",
   "execution_count": 6,
   "metadata": {},
   "outputs": [
    {
     "name": "stdout",
     "output_type": "stream",
     "text": [
      "Качество на обучении: 0.9842169442169443\n"
     ]
    }
   ],
   "source": [
    "from sklearn.pipeline import Pipeline\n",
    "from sklearn.feature_extraction.text import CountVectorizer\n",
    "from sklearn.linear_model import LogisticRegression\n",
    "from sklearn.model_selection import cross_val_score\n",
    "from nltk.corpus import stopwords\n",
    "stop_words = set(stopwords.words('russian'))\n",
    "# Tfidf Vectorizer\n",
    "ppl = Pipeline([\n",
    "    ('vectorizer', CountVectorizer(stop_words=stop_words, ngram_range=(1, 2))),\n",
    "    ('classifier', LogisticRegression(solver='liblinear')),\n",
    "])\n",
    "\n",
    "print('Качество на обучении:', cross_val_score(ppl, df['review'], df['rating'], scoring='accuracy', cv=5).mean())"
   ]
  },
  {
   "cell_type": "code",
   "execution_count": 7,
   "metadata": {},
   "outputs": [],
   "source": [
    "ppl.fit(df['review'], df['rating'])\n",
    "pred = ppl.predict(test)\n",
    "pred = pd.DataFrame({'Id': list(range(100)), 'y': pred})\n",
    "pred.to_csv('pred.csv', sep=',', index=False)"
   ]
  },
  {
   "cell_type": "code",
   "execution_count": 8,
   "metadata": {},
   "outputs": [
    {
     "data": {
      "text/plain": [
       "array(['pos', 'pos', 'pos', 'pos', 'pos', 'pos', 'pos', 'pos', 'pos',\n",
       "       'pos', 'pos', 'pos', 'pos', 'pos', 'pos', 'pos', 'pos', 'pos',\n",
       "       'pos', 'pos', 'pos', 'pos', 'pos', 'pos', 'pos', 'pos', 'pos',\n",
       "       'pos', 'pos', 'pos', 'pos', 'pos', 'pos', 'pos', 'pos', 'pos',\n",
       "       'pos', 'pos', 'pos', 'pos', 'pos', 'pos', 'pos', 'pos', 'pos',\n",
       "       'pos', 'pos', 'pos', 'pos', 'pos', 'pos', 'pos', 'pos', 'pos',\n",
       "       'pos', 'pos', 'pos', 'pos', 'pos', 'pos', 'pos', 'pos', 'pos',\n",
       "       'pos', 'pos', 'pos', 'pos', 'pos', 'pos', 'pos', 'pos', 'pos',\n",
       "       'pos', 'pos', 'pos', 'pos', 'pos', 'pos', 'pos', 'pos', 'pos',\n",
       "       'pos', 'pos', 'pos', 'pos', 'pos', 'pos', 'pos', 'pos', 'pos',\n",
       "       'pos', 'pos', 'pos', 'pos', 'pos', 'pos', 'pos', 'pos', 'pos',\n",
       "       'pos'], dtype=object)"
      ]
     },
     "execution_count": 8,
     "metadata": {},
     "output_type": "execute_result"
    }
   ],
   "source": [
    "ppl.predict(test)"
   ]
  }
 ],
 "metadata": {
  "kernelspec": {
   "display_name": "Python 3",
   "language": "python",
   "name": "python3"
  },
  "language_info": {
   "codemirror_mode": {
    "name": "ipython",
    "version": 3
   },
   "file_extension": ".py",
   "mimetype": "text/x-python",
   "name": "python",
   "nbconvert_exporter": "python",
   "pygments_lexer": "ipython3",
   "version": "3.6.8"
  }
 },
 "nbformat": 4,
 "nbformat_minor": 2
}
